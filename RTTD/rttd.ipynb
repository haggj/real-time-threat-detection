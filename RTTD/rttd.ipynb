{
 "cells": [
  {
   "cell_type": "code",
   "execution_count": 5,
   "metadata": {},
   "outputs": [],
   "source": [
    "import json"
   ]
  },
  {
   "cell_type": "code",
   "execution_count": 6,
   "metadata": {},
   "outputs": [],
   "source": [
    "# Reading the honeypot data from the json file \n",
    "data = []\n",
    "for line in open(\"../honeypot/log/cowrie.json\", 'r'):\n",
    "    data.append(json.loads(line))"
   ]
  },
  {
   "cell_type": "code",
   "execution_count": 7,
   "metadata": {},
   "outputs": [],
   "source": [
    "#data"
   ]
  },
  {
   "cell_type": "code",
   "execution_count": 8,
   "metadata": {},
   "outputs": [
    {
     "name": "stdout",
     "output_type": "stream",
     "text": [
      "IPs with timestamps: {'172.19.0.1': '2023-03-02T14:31:12.807905Z'}\n"
     ]
    }
   ],
   "source": [
    "# map containing ip as key and timestamp as value \n",
    "ip_timestamps = {}\n",
    "\n",
    "for entry in data:\n",
    "    ip_timestamps[entry['src_ip']] = entry['timestamp']\n",
    "\n",
    "print(f\"IPs with timestamps: {ip_timestamps}\")\n",
    "\n",
    "#print(session_details)\n",
    "\n"
   ]
  },
  {
   "cell_type": "code",
   "execution_count": 9,
   "metadata": {},
   "outputs": [
    {
     "name": "stdout",
     "output_type": "stream",
     "text": [
      "Source - IPs: {'172.19.0.1'}, Ports: {60874, 47574, 41478}\n",
      "Destination - IPs: {'172.19.0.2'}, Ports: {2222}\n",
      "Commands: ['ls', 'whoami', 'wget https://google.com']\n",
      "{'username': 'root', 'password': 'abc', 'timestamp': '2023-03-02T14:28:05.022834Z', 'src_ip': '172.19.0.1', 'session': '6bba26d07dad', 'message': 'login attempt [root/abc] succeeded'}\n",
      "{'username': 'admin', 'password': 'jlasjdf', 'timestamp': '2023-03-02T14:28:32.829234Z', 'src_ip': '172.19.0.1', 'session': '7ea852079e2b', 'message': 'login attempt [admin/jlasjdf] failed'}\n",
      "{'username': 'admin', 'password': 'asdf', 'timestamp': '2023-03-02T14:28:36.334548Z', 'src_ip': '172.19.0.1', 'session': '7ea852079e2b', 'message': 'login attempt [admin/asdf] failed'}\n",
      "{'username': 'admin', 'password': 'admin', 'timestamp': '2023-03-02T14:28:39.058641Z', 'src_ip': '172.19.0.1', 'session': '7ea852079e2b', 'message': 'login attempt [admin/admin] failed'}\n",
      "{'username': 'root', 'password': 'abc', 'timestamp': '2023-03-02T14:29:46.727211Z', 'src_ip': '172.19.0.1', 'session': 'fbb216bee16b', 'message': 'login attempt [root/abc] succeeded'}\n",
      "IPs with timestamps: {'172.19.0.1': '2023-03-02T14:31:12.807905Z'}\n"
     ]
    }
   ],
   "source": [
    "# other things which might be relevant, mostly for the report rather than the firewall\n",
    "\n",
    "login_attempts = []\n",
    "ips = []\n",
    "session_details = []\n",
    "session_ended_details = []\n",
    "commands = []\n",
    "timestamps = []\n",
    "login_keys_to_extract = [\"username\", \"password\", \"timestamp\", \"src_ip\", \"session\", \"message\"]\n",
    "session_keys_to_extract = ['src_ip', 'src_port', 'dst_ip', 'dst_port', 'protocol', 'timestamp']\n",
    "session_ended_keys_to_extract = ['duration', 'timestamp', 'src_ip']\n",
    "\n",
    "src_ips = set()\n",
    "src_ports = set()\n",
    "dst_ports = set()\n",
    "dst_ips = set()\n",
    "\n",
    "# map containing ip as key and timestamp as value \n",
    "ip_timestamps = {}\n",
    "\n",
    "for entry in data:\n",
    "    if entry['eventid'] == \"cowrie.login.failed\":\n",
    "        new_entry = dict([(key, entry[key]) for key in login_keys_to_extract])\n",
    "        login_attempts.append(new_entry)\n",
    "\n",
    "    if entry['eventid'] == 'cowrie.session.connect': \n",
    "        new_entry = dict([(key, entry[key]) for key in session_keys_to_extract])\n",
    "        session_details.append(new_entry)\n",
    "        \n",
    "        src_ports.add(entry['src_port'])\n",
    "        dst_ports.add(entry['dst_port'])\n",
    "        dst_ips.add(entry['dst_ip'])\n",
    "    \n",
    "    if entry['eventid'] == 'cowrie.login.success':\n",
    "        new_entry = dict([(key, entry[key]) for key in login_keys_to_extract])\n",
    "        login_attempts.append(new_entry)\n",
    "     \n",
    "    if entry['eventid'] == 'cowrie.session.closed':\n",
    "        new_entry = dict([(key, entry[key]) for key in session_ended_keys_to_extract])\n",
    "        session_ended_details.append(new_entry)\n",
    "    \n",
    "    if entry['eventid'] == 'cowrie.command.input':\n",
    "        commands.append(entry['input'])\n",
    "\n",
    "    src_ips.add(entry['src_ip'])\n",
    "    timestamps.append(entry['timestamp'])\n",
    "\n",
    "    ip_timestamps[entry['src_ip']] = entry['timestamp']\n",
    "\n",
    "\n",
    "print(f\"Source - IPs: {src_ips}, Ports: {src_ports}\")\n",
    "print(f\"Destination - IPs: {dst_ips}, Ports: {dst_ports}\")\n",
    "print(f\"Commands: {commands}\")\n",
    "[print(entry) for entry in login_attempts]\n",
    "print(f\"IPs with timestamps: {ip_timestamps}\")\n",
    "\n",
    "#print(session_details)\n",
    "\n"
   ]
  },
  {
   "cell_type": "code",
   "execution_count": null,
   "metadata": {},
   "outputs": [],
   "source": []
  }
 ],
 "metadata": {
  "kernelspec": {
   "display_name": "Python 3",
   "language": "python",
   "name": "python3"
  },
  "language_info": {
   "codemirror_mode": {
    "name": "ipython",
    "version": 3
   },
   "file_extension": ".py",
   "mimetype": "text/x-python",
   "name": "python",
   "nbconvert_exporter": "python",
   "pygments_lexer": "ipython3",
   "version": "3.10.0"
  },
  "orig_nbformat": 4,
  "vscode": {
   "interpreter": {
    "hash": "aee8b7b246df8f9039afb4144a1f6fd8d2ca17a180786b69acc140d282b71a49"
   }
  }
 },
 "nbformat": 4,
 "nbformat_minor": 2
}
